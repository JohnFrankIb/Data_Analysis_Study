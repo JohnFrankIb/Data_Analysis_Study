{
 "cells": [
  {
   "cell_type": "markdown",
   "metadata": {},
   "source": [
    "<!-- INDICE  -->\n",
    "<p style='text-align:center;background-color:#f4c272;color:#008b8b;font-weight:800;font-size:35px;border-radius:10px 10px 0 0;'>Indice:</p>\n",
    "\n",
    "<!-- Cuadro cyan de fondo -->\n",
    "<div style='background-color:#008b8b;padding:15px;margin-top:-35px;border-radius:0 0 10px 10px'>\n",
    "\n",
    "<!-- Titulo de Día 1 -->\n",
    "<p style='font-size:25px;font-weight:700;color:#2efbcd;margin-bottom:-5px;'> Scraping Web Pages </p>\n",
    "\n",
    "<ol> <!-- Lista de temas -->\n",
    "    <a href='#tema1'><li style='font-weight:500;font-size:18px;color:#4a235a;padding-bottom:8px'>Getting the HTML</li></a>\n",
    "    <a href='#tema2'><li style='font-weight:500;font-size:18px;color:#4a235a;padding-bottom:8px'>Parsing the HTML with BeautifulSoup</li></a>\n",
    "    <a href='#tema3'><li style='font-weight:500;font-size:18px;color:#4a235a;padding-bottom:8px'>Targeting DOM elements</li></a>\n",
    "    <a href='#tema4'><li style='font-weight:500;font-size:18px;color:#4a235a;padding-bottom:8px'>Finding by Tags</li></a>\n",
    "    <a href='#tema5'><li style='font-weight:500;font-size:18px;color:#4a235a;padding-bottom:8px'>Finding by Class or ID</li></a>\n",
    "    <a href='#tema6'><li style='font-weight:500;font-size:18px;color:#4a235a;padding-bottom:8px'>CSS Selectors</li></a>\n",
    "</ol>\n",
    "\n",
    "<p style='font-weight:700;margin-bottom:-5px;font-size:20px;color:#2efbcd'> Fuentes:\n",
    "\n",
    "<ul>\n",
    "<a href='' style='color:#4a235a'><li>BeautifulSoup tutorial: Scraping web pages with Python</li></a>"
   ]
  },
  {
   "cell_type": "markdown",
   "metadata": {},
   "source": [
    "---\n",
    "<p style='padding:15px;background-color:#4a235a;text-align:center;font-size:30px;font-weight:800;border-radius:15px;color:#2efbcd'> Scraping Web Pages"
   ]
  },
  {
   "cell_type": "markdown",
   "metadata": {},
   "source": [
    "La minería de datos nos sirve para poder recolectar información de diversas páginas y poder analizarla en profundidad a traves de distintas tecnologías.\n",
    "> Vamos a recolectar los datos de la pagina <a href='https://news.ycombinator.com/'>Hacker News</a> para practicar esta tarea"
   ]
  },
  {
   "cell_type": "markdown",
   "metadata": {},
   "source": [
    "<p id='tema1' style='text-align:center;background-color:#f4c272;color:#008b8b;font-weight:800;font-size:25px;border-radius:15px;padding:10px;'>Getting The HTML</p>"
   ]
  },
  {
   "cell_type": "code",
   "execution_count": 2,
   "metadata": {},
   "outputs": [],
   "source": [
    "import requests"
   ]
  },
  {
   "cell_type": "code",
   "execution_count": 3,
   "metadata": {},
   "outputs": [
    {
     "data": {
      "text/plain": [
       "200"
      ]
     },
     "execution_count": 3,
     "metadata": {},
     "output_type": "execute_result"
    }
   ],
   "source": [
    "# Conseguimos el codigo de la página.\n",
    "response = requests.get('https://news.ycombinator.com/')\n",
    "\n",
    "# Revisamos la respuesta [200 significa que la respuesta fue exitosa].\n",
    "response.status_code"
   ]
  },
  {
   "cell_type": "markdown",
   "metadata": {},
   "source": [
    "<p id='tema2' style='text-align:center;background-color:#f4c272;color:#008b8b;font-weight:800;font-size:25px;border-radius:15px;padding:10px;'>Parsing the HTML with BeautifulSoup</p>"
   ]
  },
  {
   "cell_type": "code",
   "execution_count": 4,
   "metadata": {},
   "outputs": [],
   "source": [
    "from bs4 import BeautifulSoup"
   ]
  },
  {
   "cell_type": "code",
   "execution_count": 5,
   "metadata": {},
   "outputs": [],
   "source": [
    "# Convertimos la respuesta en el codigo que contiene la página\n",
    "html_content = response.content\n",
    "\n",
    "# Usamos BeautifulSoup para traducir el HTML\n",
    "soup = BeautifulSoup(html_content,'html.parser')"
   ]
  },
  {
   "cell_type": "markdown",
   "metadata": {},
   "source": [
    "Gracias a <b style='color:red'>BeautifulSoup</b> podemos acceder y filtrar la información del codigo HTML como podrás ver a continuación:"
   ]
  },
  {
   "cell_type": "code",
   "execution_count": 6,
   "metadata": {},
   "outputs": [
    {
     "name": "stdout",
     "output_type": "stream",
     "text": [
      "- <title>Hacker News</title>\n",
      "\n",
      "- Hacker News\n",
      "\n",
      "- En la página existen 226 links\n",
      "\n",
      "- Mostrar el texto de la página:\n",
      "\n",
      "\n",
      "Hacker News\n",
      "\n",
      "Hacker News\n",
      "new | past | comments | ask | show | jobs | submit \n",
      "login\n",
      "\n",
      "\n",
      "\n",
      "\n",
      "1. DeepSeek-R1 (github.com/deepseek-ai)\n",
      "222 points by ...\n"
     ]
    }
   ],
   "source": [
    "# Mostrar el titulo con Tags\n",
    "print(f'- {soup.title}')\n",
    "\n",
    "# Mostrar titulo SIN Tags\n",
    "print(f'\\n- {soup.title.string}')\n",
    "\n",
    "# Mostrar la cantidad de links\n",
    "print(f'\\n- En la página existen {len(soup.find_all('a'))} links')\n",
    "\n",
    "# \n",
    "print(f'\\n- Mostrar el texto de la página:{soup.get_text()[:144]}...')"
   ]
  },
  {
   "cell_type": "markdown",
   "metadata": {},
   "source": [
    "<p id='tema3' style='text-align:center;background-color:#f4c272;color:#008b8b;font-weight:800;font-size:25px;border-radius:15px;padding:10px;'>Targeting DOM elements"
   ]
  },
  {
   "cell_type": "markdown",
   "metadata": {},
   "source": [
    "<img src='https://www.scrapingbee.com/blog/python-web-scraping-beautiful-soup/dom_tree.png' width='700'>"
   ]
  },
  {
   "cell_type": "markdown",
   "metadata": {},
   "source": [
    "<p id='tema4' style='text-align:center;background-color:#f4c272;color:#008b8b;font-weight:800;font-size:25px;border-radius:15px;padding:10px;'>Finding By Tags"
   ]
  },
  {
   "cell_type": "markdown",
   "metadata": {},
   "source": [
    "Para buscar elementos con BeautifulSoup, tienes dos opciones:\n",
    "- <b style='color:#2efbcd'>find</b>: Busca entre todos los elementos que coincidan con el Tag desde arriba hacia abajo y muestra solamente el primer resultado.\n",
    "- <b style='color:#2efbcd'>find_all</b>: Muestra todas las coincidencias sobre el Tag especificado\n",
    "\n",
    "Por ejemplo:"
   ]
  },
  {
   "cell_type": "code",
   "execution_count": 7,
   "metadata": {},
   "outputs": [
    {
     "data": {
      "text/plain": [
       "<a href=\"https://news.ycombinator.com\"><img height=\"18\" src=\"y18.svg\" style=\"border:1px white solid; display:block\" width=\"18\"/></a>"
      ]
     },
     "execution_count": 7,
     "metadata": {},
     "output_type": "execute_result"
    }
   ],
   "source": [
    "soup.find('a')"
   ]
  },
  {
   "cell_type": "code",
   "execution_count": 8,
   "metadata": {},
   "outputs": [
    {
     "data": {
      "text/plain": [
       "[<a href=\"https://news.ycombinator.com\"><img height=\"18\" src=\"y18.svg\" style=\"border:1px white solid; display:block\" width=\"18\"/></a>,\n",
       " <a href=\"news\">Hacker News</a>,\n",
       " <a href=\"newest\">new</a>,\n",
       " <a href=\"front\">past</a>,\n",
       " <a href=\"newcomments\">comments</a>]"
      ]
     },
     "execution_count": 8,
     "metadata": {},
     "output_type": "execute_result"
    }
   ],
   "source": [
    "soup.find_all('a')[:5]"
   ]
  },
  {
   "cell_type": "markdown",
   "metadata": {},
   "source": [
    "<p id='tema5' style='text-align:center;background-color:#f4c272;color:#008b8b;font-weight:800;font-size:25px;border-radius:15px;padding:10px;'>Finding by Class or ID"
   ]
  },
  {
   "cell_type": "markdown",
   "metadata": {},
   "source": [
    "<b style='color:#ffcc00'>BeautifulSoup</b> también tiene la opcion de buscar por la <b style='color:#2efbcd'>Clase</b> o el <b style='color:#2efbcd'>ID</b>.\n",
    "\n",
    "Por ejemplo:\n",
    "\n",
    "- Por <b style='color:#2efbcd'>Clase</b>:"
   ]
  },
  {
   "cell_type": "code",
   "execution_count": 19,
   "metadata": {},
   "outputs": [
    {
     "name": "stdout",
     "output_type": "stream",
     "text": [
      "find:\n",
      "<tr class=\"athing submission\" id=\"42768072\">\n",
      "<td align=\"right\" class=\"title\" valign=\"top\"><span class=\"rank\">1.</span></td> <td class=\"votelinks\" valign=\"top\"><center><a href=\"vote?id=42768072&amp;how=up&amp;goto=news\" id=\"up_42768072\"><div class=\"votearrow\" title=\"upvote\"></div></a></center></td><td class=\"title\"><span class=\"titleline\"><a href=\"https://github.com/deepseek-ai/DeepSeek-R1\">DeepSeek-R1</a><span class=\"sitebit comhead\"> (<a href=\"from?site=github.com/deepseek-ai\"><span class=\"sitestr\">github.com/deepseek-ai</span></a>)</span></span></td></tr>\n",
      "\n",
      "find_all:\n",
      "[<tr class=\"athing submission\" id=\"42768072\">\n",
      "<td align=\"right\" class=\"title\" valign=\"top\"><span class=\"rank\">1.</span></td> <td class=\"votelinks\" valign=\"top\"><center><a href=\"vote?id=42768072&amp;how=up&amp;goto=news\" id=\"up_42768072\"><div class=\"votearrow\" title=\"upvote\"></div></a></center></td><td class=\"title\"><span class=\"titleline\"><a href=\"https://github.com/deepseek-ai/DeepSeek-R1\">DeepSeek-R1</a><span class=\"sitebit comhead\"> (<a href=\"from?site=github.com/deepseek-ai\"><span class=\"sitestr\">github.com/deepseek-ai</span></a>)</span></span></td></tr>, <tr class=\"athing submission\" id=\"42767797\">\n",
      "<td align=\"right\" class=\"title\" valign=\"top\"><span class=\"rank\">2.</span></td> <td class=\"votelinks\" valign=\"top\"><center><a href=\"vote?id=42767797&amp;how=up&amp;goto=news\" id=\"up_42767797\"><div class=\"votearrow\" title=\"upvote\"></div></a></center></td><td class=\"title\"><span class=\"titleline\"><a href=\"https://www.mdpi.com/2504-446X/8/11/652\">Celestial Navigation for Drones</a><span class=\"sitebit comhead\"> (<a href=\"from?site=mdpi.com\"><span class=\"sitestr\">mdpi.com</span></a>)</span></span></td></tr>, <tr class=\"athing submission\" id=\"42767132\">\n",
      "<td align=\"right\" class=\"title\" valign=\"top\"><span class=\"rank\">3.</span></td> <td class=\"votelinks\" valign=\"top\"><center><a href=\"vote?id=42767132&amp;how=up&amp;goto=news\" id=\"up_42767132\"><div class=\"votearrow\" title=\"upvote\"></div></a></center></td><td class=\"title\"><span class=\"titleline\"><a href=\"https://medium.com/swlh/zork-the-great-inner-workings-b68012952bdc\">Zork: The Great Inner Workings (2020)</a><span class=\"sitebit comhead\"> (<a href=\"from?site=medium.com/swlh\"><span class=\"sitestr\">medium.com/swlh</span></a>)</span></span></td></tr>, <tr class=\"athing submission\" id=\"42763386\">\n",
      "<td align=\"right\" class=\"title\" valign=\"top\"><span class=\"rank\">4.</span></td> <td class=\"votelinks\" valign=\"top\"><center><a href=\"vote?id=42763386&amp;how=up&amp;goto=news\" id=\"up_42763386\"><div class=\"votearrow\" title=\"upvote\"></div></a></center></td><td class=\"title\"><span class=\"titleline\"><a href=\"https://josef.cn/blog/uk-talent\">UK's hardware talent is being wasted</a><span class=\"sitebit comhead\"> (<a href=\"from?site=josef.cn\"><span class=\"sitestr\">josef.cn</span></a>)</span></span></td></tr>, <tr class=\"athing submission\" id=\"42759336\">\n",
      "<td align=\"right\" class=\"title\" valign=\"top\"><span class=\"rank\">5.</span></td> <td class=\"votelinks\" valign=\"top\"><center><a href=\"vote?id=42759336&amp;how=up&amp;goto=news\" id=\"up_42759336\"><div class=\"votearrow\" title=\"upvote\"></div></a></center></td><td class=\"title\"><span class=\"titleline\"><a href=\"https://www.nbcnews.com/tech/tech-news/tiktok-says-restoring-service-us-users-rcna188320\">TikTok says it is restoring service for U.S. users</a><span class=\"sitebit comhead\"> (<a href=\"from?site=nbcnews.com\"><span class=\"sitestr\">nbcnews.com</span></a>)</span></span></td></tr>]\n"
     ]
    }
   ],
   "source": [
    "# El \"_\" se coloca porque la palabra \"class\" ya está apartada por comandos básicos de Python\n",
    "print(f'find:\\n{soup.find(class_='athing')}')\n",
    "\n",
    "print(f'\\nfind_all:\\n{soup.find_all(class_='athing')[:5]}')"
   ]
  },
  {
   "cell_type": "markdown",
   "metadata": {},
   "source": [
    "- Por <b style='color:#2efbcd'>ID</b>:"
   ]
  },
  {
   "cell_type": "code",
   "execution_count": 20,
   "metadata": {},
   "outputs": [
    {
     "data": {
      "text/plain": [
       "<tr id=\"pagespace\" style=\"height:10px\" title=\"\"></tr>"
      ]
     },
     "execution_count": 20,
     "metadata": {},
     "output_type": "execute_result"
    }
   ],
   "source": [
    "soup.find(id='pagespace')"
   ]
  },
  {
   "cell_type": "markdown",
   "metadata": {},
   "source": [
    "<p id='tema6' style='text-align:center;background-color:#f4c272;color:#008b8b;font-weight:800;font-size:25px;border-radius:15px;padding:10px;'>CSS Selectors"
   ]
  },
  {
   "cell_type": "markdown",
   "metadata": {},
   "source": [
    "Usualmente, los <b style='color:brown'>elementos</b> no tienen un <b style='color:#ffcc00'>ID</b> o una <b style='color:#ffcc00'>Clase</b> bien especificada, por lo que seleccionar esos elementos resulta complicado y requiere muchos pasos manuales. Es ahí donde <b style='color:#2efbcd'>CSS Selector</b> resulta útil y brilla.\n",
    "\n",
    "Por ejemplo:"
   ]
  },
  {
   "cell_type": "code",
   "execution_count": 24,
   "metadata": {},
   "outputs": [
    {
     "name": "stdout",
     "output_type": "stream",
     "text": [
      "['Hacker', '222', '20', '11', '429', '675', '61', '402', '15', '94', '87', '620', '22', '45', '345', '30', '147', '129', '168', '212', '98', '26', '137', '10', '4', '11', '61', '229', '57', '428', '5']\n"
     ]
    }
   ],
   "source": [
    "all_results = soup.select('td:nth-child(2) > span:nth-child(1)')\n",
    "results = [r.text.split(' ')[0].strip() for r in all_results]\n",
    "print(results)\n"
   ]
  },
  {
   "cell_type": "markdown",
   "metadata": {},
   "source": [
    "La clave aquí está en <b style='color:#ffcc00'>td:nth-child(2) > span:nth-child(1)</b>. esto seleccióna el <b style='color:#2efbcd'>primer span</b>, el cual es <b>inmediatamente hijo</b> de `<td>`, que a la vez es <b style='color:#2efbcd'>segundo elemento</b> de su padre `<tr>`.\n",
    "\n",
    "Por ejemplo:\n",
    "\n",
    "```\n",
    "<tr>\n",
    "    <td> Éste NO es el segundo hijo </td>\n",
    "    <td>\n",
    "        <span> AQUÍ ES!! </span>\n",
    "        <span> Éste NO es el primer span </span>\n",
    "    </td>\n",
    "</tr> \n",
    "```\n",
    "---\n",
    "Ya viste que <b style='color:#2efbcd'>CSS Selectors</b> perimte más flexibilidad para buscar elementos, otro ejemplo podría ser:\n",
    "\n",
    "- Para encontrar todos los elementos con una clase especifica que tenga `<tr>`:"
   ]
  },
  {
   "cell_type": "code",
   "execution_count": 26,
   "metadata": {},
   "outputs": [
    {
     "data": {
      "text/plain": [
       "[<tr class=\"athing submission\" id=\"42768072\">\n",
       " <td align=\"right\" class=\"title\" valign=\"top\"><span class=\"rank\">1.</span></td> <td class=\"votelinks\" valign=\"top\"><center><a href=\"vote?id=42768072&amp;how=up&amp;goto=news\" id=\"up_42768072\"><div class=\"votearrow\" title=\"upvote\"></div></a></center></td><td class=\"title\"><span class=\"titleline\"><a href=\"https://github.com/deepseek-ai/DeepSeek-R1\">DeepSeek-R1</a><span class=\"sitebit comhead\"> (<a href=\"from?site=github.com/deepseek-ai\"><span class=\"sitestr\">github.com/deepseek-ai</span></a>)</span></span></td></tr>,\n",
       " <tr class=\"athing submission\" id=\"42767797\">\n",
       " <td align=\"right\" class=\"title\" valign=\"top\"><span class=\"rank\">2.</span></td> <td class=\"votelinks\" valign=\"top\"><center><a href=\"vote?id=42767797&amp;how=up&amp;goto=news\" id=\"up_42767797\"><div class=\"votearrow\" title=\"upvote\"></div></a></center></td><td class=\"title\"><span class=\"titleline\"><a href=\"https://www.mdpi.com/2504-446X/8/11/652\">Celestial Navigation for Drones</a><span class=\"sitebit comhead\"> (<a href=\"from?site=mdpi.com\"><span class=\"sitestr\">mdpi.com</span></a>)</span></span></td></tr>,\n",
       " <tr class=\"athing submission\" id=\"42767132\">\n",
       " <td align=\"right\" class=\"title\" valign=\"top\"><span class=\"rank\">3.</span></td> <td class=\"votelinks\" valign=\"top\"><center><a href=\"vote?id=42767132&amp;how=up&amp;goto=news\" id=\"up_42767132\"><div class=\"votearrow\" title=\"upvote\"></div></a></center></td><td class=\"title\"><span class=\"titleline\"><a href=\"https://medium.com/swlh/zork-the-great-inner-workings-b68012952bdc\">Zork: The Great Inner Workings (2020)</a><span class=\"sitebit comhead\"> (<a href=\"from?site=medium.com/swlh\"><span class=\"sitestr\">medium.com/swlh</span></a>)</span></span></td></tr>,\n",
       " <tr class=\"athing submission\" id=\"42763386\">\n",
       " <td align=\"right\" class=\"title\" valign=\"top\"><span class=\"rank\">4.</span></td> <td class=\"votelinks\" valign=\"top\"><center><a href=\"vote?id=42763386&amp;how=up&amp;goto=news\" id=\"up_42763386\"><div class=\"votearrow\" title=\"upvote\"></div></a></center></td><td class=\"title\"><span class=\"titleline\"><a href=\"https://josef.cn/blog/uk-talent\">UK's hardware talent is being wasted</a><span class=\"sitebit comhead\"> (<a href=\"from?site=josef.cn\"><span class=\"sitestr\">josef.cn</span></a>)</span></span></td></tr>,\n",
       " <tr class=\"athing submission\" id=\"42759336\">\n",
       " <td align=\"right\" class=\"title\" valign=\"top\"><span class=\"rank\">5.</span></td> <td class=\"votelinks\" valign=\"top\"><center><a href=\"vote?id=42759336&amp;how=up&amp;goto=news\" id=\"up_42759336\"><div class=\"votearrow\" title=\"upvote\"></div></a></center></td><td class=\"title\"><span class=\"titleline\"><a href=\"https://www.nbcnews.com/tech/tech-news/tiktok-says-restoring-service-us-users-rcna188320\">TikTok says it is restoring service for U.S. users</a><span class=\"sitebit comhead\"> (<a href=\"from?site=nbcnews.com\"><span class=\"sitestr\">nbcnews.com</span></a>)</span></span></td></tr>]"
      ]
     },
     "execution_count": 26,
     "metadata": {},
     "output_type": "execute_result"
    }
   ],
   "source": [
    "soup.select('tr.athing')[:5]"
   ]
  },
  {
   "cell_type": "markdown",
   "metadata": {},
   "source": [
    "Pero `soup.select()` es similar a <b style='color:#ffcc00'>soup.find_all()</b>\n",
    "\n",
    "- Si solo queremos el <b style='color:#2efbcd'>primer elemento</b> lo haremos de la siguiente forma:"
   ]
  },
  {
   "cell_type": "code",
   "execution_count": 28,
   "metadata": {},
   "outputs": [
    {
     "data": {
      "text/plain": [
       "<tr class=\"athing submission\" id=\"42768072\">\n",
       "<td align=\"right\" class=\"title\" valign=\"top\"><span class=\"rank\">1.</span></td> <td class=\"votelinks\" valign=\"top\"><center><a href=\"vote?id=42768072&amp;how=up&amp;goto=news\" id=\"up_42768072\"><div class=\"votearrow\" title=\"upvote\"></div></a></center></td><td class=\"title\"><span class=\"titleline\"><a href=\"https://github.com/deepseek-ai/DeepSeek-R1\">DeepSeek-R1</a><span class=\"sitebit comhead\"> (<a href=\"from?site=github.com/deepseek-ai\"><span class=\"sitestr\">github.com/deepseek-ai</span></a>)</span></span></td></tr>"
      ]
     },
     "execution_count": 28,
     "metadata": {},
     "output_type": "execute_result"
    }
   ],
   "source": [
    "soup.select_one('tr.athing')"
   ]
  },
  {
   "cell_type": "markdown",
   "metadata": {},
   "source": [
    "- Utiliza `#[ID]` si quieres buscar por un <b style='color:#ffcc00'>ID</b>.\n",
    "\n",
    "Por ejemplo:"
   ]
  },
  {
   "cell_type": "code",
   "execution_count": 29,
   "metadata": {},
   "outputs": [
    {
     "data": {
      "text/plain": [
       "<tr id=\"pagespace\" style=\"height:10px\" title=\"\"></tr>"
      ]
     },
     "execution_count": 29,
     "metadata": {},
     "output_type": "execute_result"
    }
   ],
   "source": [
    "soup.select_one('#pagespace')"
   ]
  },
  {
   "cell_type": "markdown",
   "metadata": {},
   "source": [
    "---\n",
    "<b style='font-size:25px;font-weight:700;color:#008b8b'>Fácil de Debuggear</b>"
   ]
  },
  {
   "cell_type": "code",
   "execution_count": null,
   "metadata": {},
   "outputs": [],
   "source": []
  }
 ],
 "metadata": {
  "kernelspec": {
   "display_name": "env",
   "language": "python",
   "name": "python3"
  },
  "language_info": {
   "codemirror_mode": {
    "name": "ipython",
    "version": 3
   },
   "file_extension": ".py",
   "mimetype": "text/x-python",
   "name": "python",
   "nbconvert_exporter": "python",
   "pygments_lexer": "ipython3",
   "version": "3.12.4"
  }
 },
 "nbformat": 4,
 "nbformat_minor": 2
}
