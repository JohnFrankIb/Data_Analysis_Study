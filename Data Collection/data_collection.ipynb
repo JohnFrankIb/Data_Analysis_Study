{
 "cells": [
  {
   "cell_type": "markdown",
   "metadata": {},
   "source": [
    "<!-- INDICE  -->\n",
    "<p style='text-align:center;background-color:#f4c272;color:#008b8b;font-weight:800;font-size:35px;border-radius:10px 10px 0 0;'>Indice:</p>\n",
    "\n",
    "<!-- Cuadro cyan de fondo -->\n",
    "<div style='background-color:#008b8b;padding:15px;margin-top:-35px;border-radius:0 0 10px 10px'>\n",
    "\n",
    "<!-- Titulo de Día 1 -->\n",
    "<p style='font-size:25px;font-weight:700;color:#2efbcd;margin-bottom:-5px;'> Scraping Web Pages </p>\n",
    "\n",
    "<ol> <!-- Lista de temas -->\n",
    "    <a href='#tema1'><li style='font-weight:500;font-size:18px;color:#4a235a'>Getting the HTML</li></a>\n",
    "    <a href='#tema2'><li style='font-weight:500;font-size:18px;color:#4a235a'>Parsing the HTML with BeautifulSoup</li></a>\n",
    "    <a href='#tema3'><li style='font-weight:500;font-size:18px;color:#4a235a'>Targeting DOM elements</li></a>\n",
    "    <a href='#tema4'><li style='font-weight:500;font-size:18px;color:#4a235a'>Finding By Tags</li></a>\n",
    "</ol>\n",
    "\n",
    "<p style='font-weight:700;margin-bottom:-5px;font-size:20px;color:#2efbcd'> Fuentes:\n",
    "\n",
    "<ul>\n",
    "<a href='' style='color:#4a235a'><li>BeautifulSoup tutorial: Scraping web pages with Python</li></a>"
   ]
  },
  {
   "cell_type": "markdown",
   "metadata": {},
   "source": [
    "---\n",
    "<p style='padding:15px;background-color:#4a235a;text-align:center;font-size:30px;font-weight:800;border-radius:15px;color:#2efbcd'> Scraping Web Pages"
   ]
  },
  {
   "cell_type": "markdown",
   "metadata": {},
   "source": [
    "La minería de datos nos sirve para poder recolectar información de diversas páginas y poder analizarla en profundidad a traves de distintas tecnologías.\n",
    "> Vamos a recolectar los datos de la pagina <a href='https://news.ycombinator.com/'>Hacker News</a> para practicar esta tarea"
   ]
  },
  {
   "cell_type": "markdown",
   "metadata": {},
   "source": [
    "<p id='tema1' style='text-align:center;background-color:#f4c272;color:#008b8b;font-weight:800;font-size:25px;border-radius:15px;padding:10px;'>Getting The HTML</p>"
   ]
  },
  {
   "cell_type": "code",
   "execution_count": 1,
   "metadata": {},
   "outputs": [],
   "source": [
    "import requests"
   ]
  },
  {
   "cell_type": "code",
   "execution_count": 5,
   "metadata": {},
   "outputs": [
    {
     "data": {
      "text/plain": [
       "200"
      ]
     },
     "execution_count": 5,
     "metadata": {},
     "output_type": "execute_result"
    }
   ],
   "source": [
    "# Conseguimos el codigo de la página.\n",
    "response = requests.get('https://news.ycombinator.com/')\n",
    "\n",
    "# Revisamos la respuesta [200 significa que la respuesta fue exitosa].\n",
    "response.status_code"
   ]
  },
  {
   "cell_type": "markdown",
   "metadata": {},
   "source": [
    "<p id='tema2' style='text-align:center;background-color:#f4c272;color:#008b8b;font-weight:800;font-size:25px;border-radius:15px;padding:10px;'>Parsing the HTML with BeautifulSoup</p>"
   ]
  },
  {
   "cell_type": "code",
   "execution_count": 6,
   "metadata": {},
   "outputs": [],
   "source": [
    "from bs4 import BeautifulSoup"
   ]
  },
  {
   "cell_type": "code",
   "execution_count": 8,
   "metadata": {},
   "outputs": [],
   "source": [
    "# Convertimos la respuesta en el codigo que contiene la página\n",
    "html_content = response.content\n",
    "\n",
    "# Usamos BeautifulSoup para traducir el HTML\n",
    "soup = BeautifulSoup(html_content,'html.parser')"
   ]
  },
  {
   "cell_type": "markdown",
   "metadata": {},
   "source": [
    "Gracias a <b style='color:red'>BeautifulSoup</b> podemos acceder y filtrar la información del codigo HTML como podrás ver a continuación:"
   ]
  },
  {
   "cell_type": "code",
   "execution_count": 54,
   "metadata": {},
   "outputs": [
    {
     "name": "stdout",
     "output_type": "stream",
     "text": [
      "- <title>Hacker News</title>\n",
      "\n",
      "- Hacker News\n",
      "\n",
      "- En la página existen 225 links\n",
      "\n",
      "- Mostrar el texto de la página:\n",
      "\n",
      "\n",
      "Hacker News\n",
      "\n",
      "Hacker News\n",
      "new | past | comments | ask | show | jobs | submit \n",
      "login\n",
      "\n",
      "\n",
      "\n",
      "\n",
      "1. No Calls (keygen.sh)\n",
      "1334 points by ezekg 1 day ago...\n"
     ]
    }
   ],
   "source": [
    "# Mostrar el titulo con Tags\n",
    "print(f'- {soup.title}')\n",
    "\n",
    "# Mostrar titulo SIN Tags\n",
    "print(f'\\n- {soup.title.string}')\n",
    "\n",
    "# Mostrar la cantidad de links\n",
    "print(f'\\n- En la página existen {len(soup.find_all('a'))} links')\n",
    "\n",
    "# \n",
    "print(f'\\n- Mostrar el texto de la página:{soup.get_text()[:144]}...')"
   ]
  },
  {
   "cell_type": "markdown",
   "metadata": {},
   "source": [
    "<p id='tema3' style='text-align:center;background-color:#f4c272;color:#008b8b;font-weight:800;font-size:25px;border-radius:15px;padding:10px;'>Targeting DOM elements"
   ]
  },
  {
   "cell_type": "markdown",
   "metadata": {},
   "source": [
    "<img src='https://www.scrapingbee.com/blog/python-web-scraping-beautiful-soup/dom_tree.png' width='700'>"
   ]
  },
  {
   "cell_type": "markdown",
   "metadata": {},
   "source": [
    "<p id='tema4' style='text-align:center;background-color:#f4c272;color:#008b8b;font-weight:800;font-size:25px;border-radius:15px;padding:10px;'>Finding By Tags"
   ]
  }
 ],
 "metadata": {
  "kernelspec": {
   "display_name": "env",
   "language": "python",
   "name": "python3"
  },
  "language_info": {
   "codemirror_mode": {
    "name": "ipython",
    "version": 3
   },
   "file_extension": ".py",
   "mimetype": "text/x-python",
   "name": "python",
   "nbconvert_exporter": "python",
   "pygments_lexer": "ipython3",
   "version": "3.12.4"
  }
 },
 "nbformat": 4,
 "nbformat_minor": 2
}
