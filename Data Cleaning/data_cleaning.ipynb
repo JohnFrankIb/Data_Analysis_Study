{
 "cells": [
  {
   "cell_type": "markdown",
   "metadata": {},
   "source": [
    "<!-- INDICE  -->\n",
    "<p style='text-align:center;background-color:#f4c272;color:#008b8b;font-weight:800;font-size:35px;border-radius:10px 10px 0 0;'>Indice:</p>\n",
    "\n",
    "<!-- Cuadro darkcyan de fondo -->\n",
    "<div style='background-color:#008b8b;padding:15px;margin-top:-35px;border-radius:0 0 10px 10px'>\n",
    "\n",
    "<!-- Titulo de Día 1 -->\n",
    "<p style='font-size:25px;font-weight:700;color:#2efbcd'> Day 1 | Handling Missing Values </p>\n",
    "\n",
    "<ol> <!-- Lista de temas -->\n",
    "    <a href='#tema1'><li style='font-weight:500;font-size:18px;color:#4a235a;padding-bottom:8px;'>Take a first look at the data</li></a>\n",
    "    <a href='#tema2'><li style='font-weight:500;font-size:18px;color:#4a235a;padding-bottom:8px;'>See how many missing data points we have</li></a>\n",
    "    <a href='#tema3'><li style='font-weight:500;font-size:18px;color:#4a235a;padding-bottom:8px;'>Figure out why the data is missing</li></a>\n",
    "    <a href='#tema4'><li style='font-weight:500;font-size:18px;color:#4a235a;padding-bottom:8px;'>Drop missing values</li></a>\n",
    "    <a href='#tema5'><li style='font-weight:500;font-size:18px;color:#4a235a;padding-bottom:8px;'>Filling in missing values</li></a>\n",
    "</ol>\n",
    "\n",
    "<!-- FUENTES -->\n",
    "<p style='font-weight:700;margin-bottom:5px;font-size:20px;color:#2efbcd'>Fuentes\n",
    "\n",
    "<ul> <!-- LISTA DE FUENTES -->\n",
    "    <a href='https://www.kaggle.com/code/rtatman/data-cleaning-challenge-handling-missing-values' style='color:#4a235a;font-weight:700;'><li>Data Cleaning Challenge</li></a>"
   ]
  },
  {
   "cell_type": "markdown",
   "metadata": {},
   "source": [
    "---\n",
    "<p id='' style='padding:15px;background-color:#4a235a;text-align:center;font-size:30px;font-weight:800;color:#2efbcd;'> Day 1: Handling Missing Values"
   ]
  },
  {
   "cell_type": "markdown",
   "metadata": {},
   "source": [
    "# <p id='tema1' style='text-align:center;background-color:#f4c272;color:#008b8b;font-weight:800;font-size:25px;border-radius:15px;padding:10px;'>Take a first look at the data</p>"
   ]
  },
  {
   "cell_type": "code",
   "execution_count": 1,
   "metadata": {},
   "outputs": [],
   "source": [
    "# Importamos las librerias\n",
    "import pandas as pd\n",
    "import numpy as np"
   ]
  },
  {
   "cell_type": "code",
   "execution_count": 2,
   "metadata": {},
   "outputs": [
    {
     "name": "stderr",
     "output_type": "stream",
     "text": [
      "C:\\Users\\Frank Ibarra\\AppData\\Local\\Temp\\ipykernel_85688\\4098448819.py:2: DtypeWarning: Columns (25,51) have mixed types. Specify dtype option on import or set low_memory=False.\n",
      "  nfl_data = pd.read_csv('../datasets/NFL Play by Play 2009-2017 (v4).csv')\n",
      "C:\\Users\\Frank Ibarra\\AppData\\Local\\Temp\\ipykernel_85688\\4098448819.py:4: DtypeWarning: Columns (22,32) have mixed types. Specify dtype option on import or set low_memory=False.\n",
      "  sf_permits = pd.read_csv('../datasets/Building_Permits.csv')\n"
     ]
    }
   ],
   "source": [
    "# Cargamos el Dataset\n",
    "nfl_data = pd.read_csv('../datasets/NFL Play by Play 2009-2017 (v4).csv')\n",
    "\n",
    "sf_permits = pd.read_csv('../datasets/Building_Permits.csv')\n",
    "\n",
    "# Colocamos una semilla para que los resultados sean siempre iguales\n",
    "np.random.seed(0)"
   ]
  },
  {
   "cell_type": "code",
   "execution_count": 7,
   "metadata": {},
   "outputs": [
    {
     "data": {
      "text/html": [
       "<div>\n",
       "<style scoped>\n",
       "    .dataframe tbody tr th:only-of-type {\n",
       "        vertical-align: middle;\n",
       "    }\n",
       "\n",
       "    .dataframe tbody tr th {\n",
       "        vertical-align: top;\n",
       "    }\n",
       "\n",
       "    .dataframe thead th {\n",
       "        text-align: right;\n",
       "    }\n",
       "</style>\n",
       "<table border=\"1\" class=\"dataframe\">\n",
       "  <thead>\n",
       "    <tr style=\"text-align: right;\">\n",
       "      <th></th>\n",
       "      <th>Date</th>\n",
       "      <th>GameID</th>\n",
       "      <th>Drive</th>\n",
       "      <th>qtr</th>\n",
       "      <th>down</th>\n",
       "      <th>time</th>\n",
       "      <th>TimeUnder</th>\n",
       "      <th>TimeSecs</th>\n",
       "      <th>PlayTimeDiff</th>\n",
       "      <th>SideofField</th>\n",
       "      <th>...</th>\n",
       "      <th>yacEPA</th>\n",
       "      <th>Home_WP_pre</th>\n",
       "      <th>Away_WP_pre</th>\n",
       "      <th>Home_WP_post</th>\n",
       "      <th>Away_WP_post</th>\n",
       "      <th>Win_Prob</th>\n",
       "      <th>WPA</th>\n",
       "      <th>airWPA</th>\n",
       "      <th>yacWPA</th>\n",
       "      <th>Season</th>\n",
       "    </tr>\n",
       "  </thead>\n",
       "  <tbody>\n",
       "    <tr>\n",
       "      <th>387796</th>\n",
       "      <td>2017-11-12</td>\n",
       "      <td>2017111209</td>\n",
       "      <td>14</td>\n",
       "      <td>4</td>\n",
       "      <td>NaN</td>\n",
       "      <td>13:48</td>\n",
       "      <td>14</td>\n",
       "      <td>828.0</td>\n",
       "      <td>0.0</td>\n",
       "      <td>ATL</td>\n",
       "      <td>...</td>\n",
       "      <td>NaN</td>\n",
       "      <td>0.939641</td>\n",
       "      <td>0.060359</td>\n",
       "      <td>0.939641</td>\n",
       "      <td>0.060359</td>\n",
       "      <td>0.060359</td>\n",
       "      <td>0.000000</td>\n",
       "      <td>NaN</td>\n",
       "      <td>NaN</td>\n",
       "      <td>2017</td>\n",
       "    </tr>\n",
       "    <tr>\n",
       "      <th>309517</th>\n",
       "      <td>2015-12-20</td>\n",
       "      <td>2015122003</td>\n",
       "      <td>21</td>\n",
       "      <td>4</td>\n",
       "      <td>3.0</td>\n",
       "      <td>06:57</td>\n",
       "      <td>7</td>\n",
       "      <td>417.0</td>\n",
       "      <td>45.0</td>\n",
       "      <td>ATL</td>\n",
       "      <td>...</td>\n",
       "      <td>0.46682</td>\n",
       "      <td>0.375032</td>\n",
       "      <td>0.624968</td>\n",
       "      <td>0.249407</td>\n",
       "      <td>0.750593</td>\n",
       "      <td>0.624968</td>\n",
       "      <td>0.125625</td>\n",
       "      <td>0.096967</td>\n",
       "      <td>0.028658</td>\n",
       "      <td>2015</td>\n",
       "    </tr>\n",
       "    <tr>\n",
       "      <th>292472</th>\n",
       "      <td>2015-11-08</td>\n",
       "      <td>2015110801</td>\n",
       "      <td>21</td>\n",
       "      <td>3</td>\n",
       "      <td>1.0</td>\n",
       "      <td>02:55</td>\n",
       "      <td>3</td>\n",
       "      <td>1075.0</td>\n",
       "      <td>8.0</td>\n",
       "      <td>GB</td>\n",
       "      <td>...</td>\n",
       "      <td>NaN</td>\n",
       "      <td>0.918073</td>\n",
       "      <td>0.081927</td>\n",
       "      <td>0.909661</td>\n",
       "      <td>0.090339</td>\n",
       "      <td>0.081927</td>\n",
       "      <td>0.008412</td>\n",
       "      <td>NaN</td>\n",
       "      <td>NaN</td>\n",
       "      <td>2015</td>\n",
       "    </tr>\n",
       "  </tbody>\n",
       "</table>\n",
       "<p>3 rows × 102 columns</p>\n",
       "</div>"
      ],
      "text/plain": [
       "              Date      GameID  Drive  qtr  down   time  TimeUnder  TimeSecs  \\\n",
       "387796  2017-11-12  2017111209     14    4   NaN  13:48         14     828.0   \n",
       "309517  2015-12-20  2015122003     21    4   3.0  06:57          7     417.0   \n",
       "292472  2015-11-08  2015110801     21    3   1.0  02:55          3    1075.0   \n",
       "\n",
       "        PlayTimeDiff SideofField  ...   yacEPA  Home_WP_pre  Away_WP_pre  \\\n",
       "387796           0.0         ATL  ...      NaN     0.939641     0.060359   \n",
       "309517          45.0         ATL  ...  0.46682     0.375032     0.624968   \n",
       "292472           8.0          GB  ...      NaN     0.918073     0.081927   \n",
       "\n",
       "        Home_WP_post  Away_WP_post  Win_Prob       WPA    airWPA    yacWPA  \\\n",
       "387796      0.939641      0.060359  0.060359  0.000000       NaN       NaN   \n",
       "309517      0.249407      0.750593  0.624968  0.125625  0.096967  0.028658   \n",
       "292472      0.909661      0.090339  0.081927  0.008412       NaN       NaN   \n",
       "\n",
       "        Season  \n",
       "387796    2017  \n",
       "309517    2015  \n",
       "292472    2015  \n",
       "\n",
       "[3 rows x 102 columns]"
      ]
     },
     "execution_count": 7,
     "metadata": {},
     "output_type": "execute_result"
    }
   ],
   "source": [
    "# [sample], a diferencia de [head], muestra valores aleatorios del dataset\n",
    "nfl_data.sample(3)"
   ]
  },
  {
   "cell_type": "markdown",
   "metadata": {},
   "source": [
    "# <p id='tema2' style='text-align:center;background-color:#f4c272;color:#008b8b;font-weight:800;font-size:25px;border-radius:15px;padding:10px;'>See how many missing data points we have</p>"
   ]
  },
  {
   "cell_type": "code",
   "execution_count": 11,
   "metadata": {},
   "outputs": [
    {
     "data": {
      "text/plain": [
       "Date                0\n",
       "GameID              0\n",
       "Drive               0\n",
       "qtr                 0\n",
       "down            61154\n",
       "time              224\n",
       "TimeUnder           0\n",
       "TimeSecs          224\n",
       "PlayTimeDiff      444\n",
       "SideofField       528\n",
       "dtype: int64"
      ]
     },
     "execution_count": 11,
     "metadata": {},
     "output_type": "execute_result"
    }
   ],
   "source": [
    "nfl_data.isnull().sum().head(10)"
   ]
  },
  {
   "cell_type": "markdown",
   "metadata": {},
   "source": [
    "Para saber el total de los datos puedes utilizar:\n",
    "\n",
    "Utilizando la librería de <b style='color:#ffccdd'>Numpy</b>\n",
    "- `np.prod([DataFrame].shape)`\n",
    "\n",
    "Utilizando únicamente <b style='color:#2efbcd'>Pandas</b>\n",
    "- `[DataFrame].size`\n",
    "\n",
    "Por ejemplo:"
   ]
  },
  {
   "cell_type": "code",
   "execution_count": 28,
   "metadata": {},
   "outputs": [
    {
     "name": "stdout",
     "output_type": "stream",
     "text": [
      "Numpy: 41584176\n",
      "Pandas: 41584176\n"
     ]
    }
   ],
   "source": [
    "print('Numpy:',np.prod(nfl_data.size))\n",
    "\n",
    "print('Pandas:',nfl_data.size)"
   ]
  },
  {
   "cell_type": "markdown",
   "metadata": {},
   "source": [
    "Porcentaje de valores nulos en todo el DataFrame"
   ]
  },
  {
   "cell_type": "code",
   "execution_count": 41,
   "metadata": {},
   "outputs": [
    {
     "name": "stdout",
     "output_type": "stream",
     "text": [
      "Porcentaje de valores NULOS: 27.67\n"
     ]
    }
   ],
   "source": [
    "# Sumamos todos los valores nulos que existan en el DataFrame\n",
    "missing_values = nfl_data.isnull().sum().sum()\n",
    "\n",
    "# Dividimos y multiplicamos por cien para conocer el porcentaje\n",
    "print(f'Porcentaje de valores NULOS: {((missing_values / nfl_data.size) * 100).round(2)}')"
   ]
  },
  {
   "cell_type": "markdown",
   "metadata": {},
   "source": [
    "# <p id='tema3' style='text-align:center;background-color:#f4c272;color:#008b8b;font-weight:800;font-size:25px;border-radius:15px;padding:10px;'>Figure out why the data is missing</p>"
   ]
  },
  {
   "cell_type": "code",
   "execution_count": 51,
   "metadata": {},
   "outputs": [
    {
     "data": {
      "text/plain": [
       "Date                0\n",
       "GameID              0\n",
       "Drive               0\n",
       "qtr                 0\n",
       "down            61154\n",
       "time              224\n",
       "TimeUnder           0\n",
       "TimeSecs          224\n",
       "PlayTimeDiff      444\n",
       "SideofField       528\n",
       "dtype: int64"
      ]
     },
     "execution_count": 51,
     "metadata": {},
     "output_type": "execute_result"
    }
   ],
   "source": [
    "missing_values_col = nfl_data.isnull().sum()\n",
    "missing_values_col[:10]"
   ]
  },
  {
   "cell_type": "markdown",
   "metadata": {},
   "source": [
    "### Your turn!"
   ]
  },
  {
   "cell_type": "markdown",
   "metadata": {},
   "source": [
    "- Look at the columns `Street Number Suffix` and `Zipcode` from the `sf_permits` dataset.\n",
    "\n",
    "Both of these contain missing values. Which, if either, of these are missing because they don't exist? Which, if either, are missing because they weren't recorder?"
   ]
  },
  {
   "cell_type": "code",
   "execution_count": 78,
   "metadata": {},
   "outputs": [
    {
     "data": {
      "text/html": [
       "<div>\n",
       "<style scoped>\n",
       "    .dataframe tbody tr th:only-of-type {\n",
       "        vertical-align: middle;\n",
       "    }\n",
       "\n",
       "    .dataframe tbody tr th {\n",
       "        vertical-align: top;\n",
       "    }\n",
       "\n",
       "    .dataframe thead th {\n",
       "        text-align: right;\n",
       "    }\n",
       "</style>\n",
       "<table border=\"1\" class=\"dataframe\">\n",
       "  <thead>\n",
       "    <tr style=\"text-align: right;\">\n",
       "      <th></th>\n",
       "      <th>Street Number Suffix</th>\n",
       "      <th>Zipcode</th>\n",
       "    </tr>\n",
       "  </thead>\n",
       "  <tbody>\n",
       "    <tr>\n",
       "      <th>162287</th>\n",
       "      <td>NaN</td>\n",
       "      <td>94110.0</td>\n",
       "    </tr>\n",
       "    <tr>\n",
       "      <th>19741</th>\n",
       "      <td>NaN</td>\n",
       "      <td>94116.0</td>\n",
       "    </tr>\n",
       "    <tr>\n",
       "      <th>109519</th>\n",
       "      <td>NaN</td>\n",
       "      <td>94124.0</td>\n",
       "    </tr>\n",
       "    <tr>\n",
       "      <th>16678</th>\n",
       "      <td>NaN</td>\n",
       "      <td>94110.0</td>\n",
       "    </tr>\n",
       "    <tr>\n",
       "      <th>2919</th>\n",
       "      <td>NaN</td>\n",
       "      <td>94131.0</td>\n",
       "    </tr>\n",
       "  </tbody>\n",
       "</table>\n",
       "</div>"
      ],
      "text/plain": [
       "       Street Number Suffix  Zipcode\n",
       "162287                  NaN  94110.0\n",
       "19741                   NaN  94116.0\n",
       "109519                  NaN  94124.0\n",
       "16678                   NaN  94110.0\n",
       "2919                    NaN  94131.0"
      ]
     },
     "execution_count": 78,
     "metadata": {},
     "output_type": "execute_result"
    }
   ],
   "source": [
    "sf_permits[['Street Number Suffix','Zipcode']].sample(5)"
   ]
  },
  {
   "cell_type": "code",
   "execution_count": 80,
   "metadata": {},
   "outputs": [
    {
     "data": {
      "text/plain": [
       "Street Number Suffix\n",
       "A    1501\n",
       "B     291\n",
       "V     228\n",
       "C      56\n",
       "E      28\n",
       "F      24\n",
       "G      12\n",
       "D      11\n",
       "K      11\n",
       "H      11\n",
       "R      10\n",
       "L      10\n",
       "J       9\n",
       "I       7\n",
       "P       3\n",
       "N       2\n",
       "0       1\n",
       "½       1\n",
       "Name: count, dtype: int64"
      ]
     },
     "execution_count": 80,
     "metadata": {},
     "output_type": "execute_result"
    }
   ],
   "source": [
    "sf_permits['Street Number Suffix'].value_counts()"
   ]
  },
  {
   "cell_type": "code",
   "execution_count": 75,
   "metadata": {},
   "outputs": [
    {
     "data": {
      "text/plain": [
       "198900"
      ]
     },
     "execution_count": 75,
     "metadata": {},
     "output_type": "execute_result"
    }
   ],
   "source": [
    "# Cantidad total de datos | STREET NUMBER SUFFIX\n",
    "sf_permits['Street Number Suffix'].size"
   ]
  },
  {
   "cell_type": "code",
   "execution_count": 70,
   "metadata": {},
   "outputs": [
    {
     "data": {
      "text/plain": [
       "np.int64(2216)"
      ]
     },
     "execution_count": 70,
     "metadata": {},
     "output_type": "execute_result"
    }
   ],
   "source": [
    "# Cantidad de valores existentes | STREET NUMBER SUFFIX\n",
    "sf_permits['Street Number Suffix'].size - sf_permits['Street Number Suffix'].isnull().sum()"
   ]
  },
  {
   "cell_type": "code",
   "execution_count": 65,
   "metadata": {},
   "outputs": [
    {
     "data": {
      "text/plain": [
       "np.float64(98.88587229763701)"
      ]
     },
     "execution_count": 65,
     "metadata": {},
     "output_type": "execute_result"
    }
   ],
   "source": [
    "# Porcentaje de valores nulos | STREET NUMBER SUFFIX\n",
    "(sf_permits['Street Number Suffix'].isnull().sum() / sf_permits['Street Number Suffix'].size) * 100"
   ]
  },
  {
   "cell_type": "code",
   "execution_count": 74,
   "metadata": {},
   "outputs": [
    {
     "data": {
      "text/plain": [
       "np.float64(0.8627450980392156)"
      ]
     },
     "execution_count": 74,
     "metadata": {},
     "output_type": "execute_result"
    }
   ],
   "source": [
    "# Porcentaje de valores nulos | ZIPCODE\n",
    "(sf_permits['Zipcode'].isnull().sum() / sf_permits['Zipcode'].size) * 100"
   ]
  },
  {
   "cell_type": "markdown",
   "metadata": {},
   "source": [
    "En mi criterio, los valores nulos son porque:\n",
    "- `Zipcode` No se registraron\n",
    "- `Street Number Suffix` Faltan hasta el 98% de los datos, por lo que será mejor eliminar esa columna"
   ]
  },
  {
   "cell_type": "markdown",
   "metadata": {},
   "source": [
    "# <p id='tema4' style='text-align:center;background-color:#f4c272;color:#008b8b;font-weight:800;font-size:25px;border-radius:15px;padding:10px;'>Drop missing values</p>"
   ]
  },
  {
   "cell_type": "code",
   "execution_count": null,
   "metadata": {},
   "outputs": [],
   "source": []
  },
  {
   "cell_type": "markdown",
   "metadata": {},
   "source": [
    "# <p id='tema5' style='text-align:center;background-color:#f4c272;color:#008b8b;font-weight:800;font-size:25px;border-radius:15px;padding:10px;'>Filling in missing values</p>"
   ]
  },
  {
   "cell_type": "code",
   "execution_count": null,
   "metadata": {},
   "outputs": [],
   "source": []
  }
 ],
 "metadata": {
  "kernelspec": {
   "display_name": "env",
   "language": "python",
   "name": "python3"
  },
  "language_info": {
   "codemirror_mode": {
    "name": "ipython",
    "version": 3
   },
   "file_extension": ".py",
   "mimetype": "text/x-python",
   "name": "python",
   "nbconvert_exporter": "python",
   "pygments_lexer": "ipython3",
   "version": "3.12.4"
  }
 },
 "nbformat": 4,
 "nbformat_minor": 2
}
