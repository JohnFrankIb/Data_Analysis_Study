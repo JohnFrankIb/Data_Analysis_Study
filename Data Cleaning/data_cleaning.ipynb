{
 "cells": [
  {
   "cell_type": "markdown",
   "metadata": {},
   "source": [
    "<!-- INDICE  -->\n",
    "<p style='text-align:center;background-color:#f4c272;color:#008b8b;font-weight:800;font-size:35px;border-radius:10px 10px 0 0;'>Indice:</p>\n",
    "\n",
    "<!-- Cuadro darkcyan de fondo -->\n",
    "<div style='background-color:#008b8b;padding:15px;margin-top:-35px;border-radius:0 0 10px 10px'>\n",
    "\n",
    "<!-- Titulo de Día 1 -->\n",
    "<p style='font-size:25px;font-weight:700;color:#2efbcd'> Day 1 | Handling Missing Values </p>\n",
    "\n",
    "<ol> <!-- Lista de temas -->\n",
    "    <a href=''><li style='font-weight:500;font-size:18px;color:#4a235a;'>Getting the HTML</li></a>\n",
    "    <a href=''><li style='font-weight:500;font-size:18px;color:#4a235a;'>See how many missing data points we have</li></a>\n",
    "    <a href=''><li style='font-weight:500;font-size:18px;color:#4a235a;'>Figure out why the data is missing</li></a>\n",
    "    <a href=''><li style='font-weight:500;font-size:18px;color:#4a235a;'>Drop missing values</li></a>\n",
    "    <a href=''><li style='font-weight:500;font-size:18px;color:#4a235a;'>Filling in missing values</li></a>\n",
    "</ol>\n",
    "\n",
    "<!-- FUENTES -->\n",
    "<p style='font-weight:700;margin-bottom:5px;font-size:20px;color:#2efbcd'>Fuentes\n",
    "\n",
    "<ul> <!-- LISTA DE FUENTES -->\n",
    "    <a href='https://www.kaggle.com/code/rtatman/data-cleaning-challenge-handling-missing-values' style='color:#4a235a;font-weight:700;'><li>Data Cleaning Challenge</li></a>"
   ]
  },
  {
   "cell_type": "markdown",
   "metadata": {},
   "source": [
    "---\n",
    "<p id='' style='padding:15px;background-color:#4a235a;text-align:center;font-size:30px;font-weight:800;color:#2efbcd;'> Day 1: Handling Missing Values"
   ]
  },
  {
   "cell_type": "markdown",
   "metadata": {},
   "source": [
    "<p id='tema1' style='text-align:center;background-color:#f4c272;color:#008b8b;font-weight:800;font-size:25px;border-radius:15px;padding:10px;'>Getting The HTML</p>"
   ]
  },
  {
   "cell_type": "code",
   "execution_count": 1,
   "metadata": {},
   "outputs": [],
   "source": [
    "# Importamos las librerias\n",
    "import pandas as pd\n",
    "import numpy as np"
   ]
  },
  {
   "cell_type": "markdown",
   "metadata": {},
   "source": [
    "<p id='tema1' style='text-align:center;background-color:#f4c272;color:#008b8b;font-weight:800;font-size:25px;border-radius:15px;padding:10px;'>See how many missing data points we have</p"
   ]
  },
  {
   "cell_type": "markdown",
   "metadata": {},
   "source": [
    "<p id='tema1' style='text-align:center;background-color:#f4c272;color:#008b8b;font-weight:800;font-size:25px;border-radius:15px;padding:10px;'>Figure out why the data is missing</p>"
   ]
  },
  {
   "cell_type": "markdown",
   "metadata": {},
   "source": [
    "<p id='tema1' style='text-align:center;background-color:#f4c272;color:#008b8b;font-weight:800;font-size:25px;border-radius:15px;padding:10px;'>Drop missing values</p>"
   ]
  },
  {
   "cell_type": "markdown",
   "metadata": {},
   "source": [
    "<p id='tema1' style='text-align:center;background-color:#f4c272;color:#008b8b;font-weight:800;font-size:25px;border-radius:15px;padding:10px;'>Filling in missing values</p>"
   ]
  }
 ],
 "metadata": {
  "kernelspec": {
   "display_name": "env",
   "language": "python",
   "name": "python3"
  },
  "language_info": {
   "codemirror_mode": {
    "name": "ipython",
    "version": 3
   },
   "file_extension": ".py",
   "mimetype": "text/x-python",
   "name": "python",
   "nbconvert_exporter": "python",
   "pygments_lexer": "ipython3",
   "version": "3.12.4"
  }
 },
 "nbformat": 4,
 "nbformat_minor": 2
}
